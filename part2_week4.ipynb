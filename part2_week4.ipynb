{
  "nbformat": 4,
  "nbformat_minor": 0,
  "metadata": {
    "kernelspec": {
      "display_name": "Python 3.6",
      "name": "python3",
      "language": "python"
    },
    "language_info": {
      "mimetype": "text/x-python",
      "nbconvert_exporter": "python",
      "version": "3.6.8",
      "name": "python",
      "file_extension": ".py",
      "pygments_lexer": "ipython3",
      "codemirror_mode": {
        "version": 3,
        "name": "ipython"
      }
    },
    "colab": {
      "name": "Copy of Week4_Data_Section.ipynb",
      "provenance": []
    }
  },
  "cells": [
    {
      "cell_type": "markdown",
      "metadata": {
        "id": "UXX4zJuEmgIL",
        "colab_type": "text"
      },
      "source": [
        "## Data Section"
      ]
    },
    {
      "cell_type": "markdown",
      "metadata": {
        "id": "jPiG7YJ0mgIN",
        "colab_type": "text"
      },
      "source": [
        "This demonstration will make use of the following data sources:"
      ]
    },
    {
      "cell_type": "markdown",
      "metadata": {
        "id": "0c23kTffmgIO",
        "colab_type": "text"
      },
      "source": [
        "<b>Singapore Towns and median residential rental prices.</b>"
      ]
    },
    {
      "cell_type": "markdown",
      "metadata": {
        "id": "lfGJARC1mgIQ",
        "colab_type": "text"
      },
      "source": [
        "Data will retrieved from Singapore open dataset from median rent by town and flattype from https://data.gov.sg website.<br>\n",
        "\n",
        "The original data source contains median rental prices of Singapore HDB units from 2005 up to 2nd quarter of 2018. I will retrieve rental the most recent recorded rental prices from this data source (Q2 2018) being the most relevant price available at this time. For this demonstration, I will simplify the analysis by using the average rental prices of all available flat type."
      ]
    },
    {
      "cell_type": "markdown",
      "metadata": {
        "id": "fezwQKOAmgIR",
        "colab_type": "text"
      },
      "source": [
        "<b>Singapore Towns location data retrieved using Google maps API.</b>"
      ]
    },
    {
      "cell_type": "markdown",
      "metadata": {
        "id": "4C6mGanNmgIS",
        "colab_type": "text"
      },
      "source": [
        "Data coordinates of Town Venues will be retrieved using google API. I also make use of MRT stations coordinate as a more important center of for all towns included in venue recommendations."
      ]
    },
    {
      "cell_type": "markdown",
      "metadata": {
        "id": "xVnwX9zdmgIT",
        "colab_type": "text"
      },
      "source": [
        "<b>Singapore Top Venue Recommendations from FourSquare API</b>"
      ]
    },
    {
      "cell_type": "markdown",
      "metadata": {
        "id": "DaRlWSJhmgIW",
        "colab_type": "text"
      },
      "source": [
        "(FourSquare website: www.foursquare.com)"
      ]
    },
    {
      "cell_type": "markdown",
      "metadata": {
        "id": "D5E6fQI-mgIX",
        "colab_type": "text"
      },
      "source": [
        "I will be using the FourSquare API to explore neighborhoods in selected towns in Singapore. The Foursquare explore function will be used to get the most common venue categories in each neighborhood, and then use this feature to group the neighborhoods into clusters. The following information are retrieved on the first query:"
      ]
    },
    {
      "cell_type": "markdown",
      "metadata": {
        "id": "aZiqUTrYmgIY",
        "colab_type": "text"
      },
      "source": [
        "- Venue ID\n",
        "- Venue Name\n",
        "- Coordinates : Latitude and Longitude\n",
        "- Category Name"
      ]
    },
    {
      "cell_type": "markdown",
      "metadata": {
        "id": "n5Z_9rNqmgIa",
        "colab_type": "text"
      },
      "source": [
        "Another venue query will be performed to retrieve venue ratings for each location. Note that rating information is a paid service from FourSquare and we are limited to only 50 queries per day. With this constraint, we limit the category analysis with only one type for this demo. I will try to retrieve as many ratings as possible for each retrieved venue ID."
      ]
    },
    {
      "cell_type": "code",
      "metadata": {
        "id": "yTGWZIKamgIb",
        "colab_type": "code",
        "colab": {}
      },
      "source": [
        ""
      ],
      "execution_count": 0,
      "outputs": []
    }
  ]
}